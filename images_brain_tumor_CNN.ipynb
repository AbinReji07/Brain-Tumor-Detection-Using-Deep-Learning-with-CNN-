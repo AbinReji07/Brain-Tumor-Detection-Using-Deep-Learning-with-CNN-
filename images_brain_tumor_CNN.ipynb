{
  "nbformat": 4,
  "nbformat_minor": 0,
  "metadata": {
    "colab": {
      "provenance": [],
      "gpuType": "T4",
      "mount_file_id": "1SnF9quLzzYPO_7wILCPur2qUP-0rOdBn",
      "authorship_tag": "ABX9TyM8TS+jiN3KyF5hOERjyuXL",
      "include_colab_link": true
    },
    "kernelspec": {
      "name": "python3",
      "display_name": "Python 3"
    },
    "language_info": {
      "name": "python"
    },
    "accelerator": "GPU"
  },
  "cells": [
    {
      "cell_type": "markdown",
      "metadata": {
        "id": "view-in-github",
        "colab_type": "text"
      },
      "source": [
        "<a href=\"https://colab.research.google.com/github/AbinReji07/Brain-Tumor-Detection-Using-Deep-Learning-with-CNN-/blob/main/images_brain_tumor_CNN.ipynb\" target=\"_parent\"><img src=\"https://colab.research.google.com/assets/colab-badge.svg\" alt=\"Open In Colab\"/></a>"
      ]
    },
    {
      "cell_type": "code",
      "execution_count": 1,
      "metadata": {
        "id": "ofJL6owvmO1C"
      },
      "outputs": [],
      "source": [
        "import pandas as pd\n",
        "from skimage.io import imread\n",
        "from skimage.transform import resize\n",
        "from keras.models import Sequential\n",
        "import os"
      ]
    },
    {
      "cell_type": "code",
      "source": [
        "os.listdir(\"/content/drive/MyDrive/BRAIN_TUMOR/Training\")"
      ],
      "metadata": {
        "colab": {
          "base_uri": "https://localhost:8080/"
        },
        "id": "cDZRxoWSnj98",
        "outputId": "12b761e3-d025-4b60-a0e4-ab0d06bc9e0d"
      },
      "execution_count": 2,
      "outputs": [
        {
          "output_type": "execute_result",
          "data": {
            "text/plain": [
              "['pituitary', 'notumor', 'meningioma', 'glioma']"
            ]
          },
          "metadata": {},
          "execution_count": 2
        }
      ]
    },
    {
      "cell_type": "code",
      "source": [
        "os.listdir(\"/content/drive/MyDrive/BRAIN_TUMOR/Testing\")"
      ],
      "metadata": {
        "colab": {
          "base_uri": "https://localhost:8080/"
        },
        "id": "jp29sEldn17i",
        "outputId": "dc950d5a-e738-4635-b882-efe008b789d8"
      },
      "execution_count": 3,
      "outputs": [
        {
          "output_type": "execute_result",
          "data": {
            "text/plain": [
              "['pituitary', 'glioma', 'notumor', 'meningioma']"
            ]
          },
          "metadata": {},
          "execution_count": 3
        }
      ]
    },
    {
      "cell_type": "markdown",
      "source": [
        "x train ,y train\n"
      ],
      "metadata": {
        "id": "hLvKePqtoGBR"
      }
    },
    {
      "cell_type": "code",
      "source": [
        "#x_train ,y_train\n",
        "datadir=\"/content/drive/MyDrive/BRAIN_TUMOR/Training\""
      ],
      "metadata": {
        "id": "bNAkZZbyoCft"
      },
      "execution_count": 4,
      "outputs": []
    },
    {
      "cell_type": "code",
      "source": [
        "x_train=[]\n",
        "y_train=[]\n",
        "categories=[\"pituitary\",\"notumor\",\"meningioma\",\"glioma\"]\n",
        "for i in categories:\n",
        "  print(\"loading categories....\",i)\n",
        "  path=os.path.join(datadir,i)\n",
        "  #print(path)\n",
        "  images=os.listdir(path)\n",
        "  #print(images)\n",
        "  for img in images:\n",
        "    imgpath=os.path.join(path,img)\n",
        "    #print(imgpath)\n",
        "    img_array=imread(imgpath)\n",
        "    #resizing\n",
        "    img_resized=resize(img_array,(150,150,1))\n",
        "    x_train.append(img_resized)\n",
        "    y_train.append(categories.index(i))\n",
        "  print(\"loaded categories\",i)\n"
      ],
      "metadata": {
        "id": "VAcFutHtoXqu",
        "colab": {
          "base_uri": "https://localhost:8080/"
        },
        "outputId": "6c8dc2ef-629e-4cb9-b588-c9a711cac473"
      },
      "execution_count": null,
      "outputs": [
        {
          "output_type": "stream",
          "name": "stdout",
          "text": [
            "loading categories.... pituitary\n",
            "loaded categories pituitary\n",
            "loading categories.... notumor\n",
            "loaded categories notumor\n",
            "loading categories.... meningioma\n"
          ]
        }
      ]
    },
    {
      "cell_type": "code",
      "source": [
        "datadir=\"/content/drive/MyDrive/BRAIN_TUMOR/Testing\""
      ],
      "metadata": {
        "id": "HNLpDGU2pNoy"
      },
      "execution_count": null,
      "outputs": []
    },
    {
      "cell_type": "code",
      "source": [
        "\n",
        "x_test=[]\n",
        "y_test=[]\n",
        "categories=[\"pituitary\",\"notumor\",\"meningioma\",\"glioma\"]\n",
        "for i in categories:\n",
        "  print(\"loading categories...\",i)\n",
        "  path=os.path.join(datadir,i)\n",
        "  #print(path)\n",
        "  images=os.listdir(path)\n",
        "  #print(images)\n",
        "  for img in images:\n",
        "    img_path=os.path.join(path,img)\n",
        "    #print(img_path)\n",
        "    img_array=imread(img_path)\n",
        "    #resizing\n",
        "    img_resized=resize(img_array,(150,150,1))\n",
        "    x_test.append(img_resized)\n",
        "    y_test.append(categories.index(i))\n",
        "  print(\"loaded categories....\",i)\n"
      ],
      "metadata": {
        "id": "T1xc5Ci8uJe8"
      },
      "execution_count": null,
      "outputs": []
    },
    {
      "cell_type": "code",
      "source": [
        "import numpy as np\n",
        "x_train=np.array(x_train)\n",
        "x_test=np.array(x_test)\n",
        "y_train=np.array(y_train)\n",
        "y_test=np.array(y_test)"
      ],
      "metadata": {
        "id": "8gsytftFyUxj"
      },
      "execution_count": null,
      "outputs": []
    },
    {
      "cell_type": "code",
      "source": [
        "x_train.shape"
      ],
      "metadata": {
        "id": "ixq5xJXyy8wm"
      },
      "execution_count": null,
      "outputs": []
    },
    {
      "cell_type": "code",
      "source": [
        "x_test.shape"
      ],
      "metadata": {
        "id": "HO9DmOM7zEuv"
      },
      "execution_count": null,
      "outputs": []
    },
    {
      "cell_type": "code",
      "source": [
        "y_train.shape"
      ],
      "metadata": {
        "id": "Ooh3v5wKzbEw"
      },
      "execution_count": null,
      "outputs": []
    },
    {
      "cell_type": "code",
      "source": [
        "y_test.shape"
      ],
      "metadata": {
        "id": "sWNQ4dLYzeNC"
      },
      "execution_count": null,
      "outputs": []
    },
    {
      "cell_type": "code",
      "source": [
        "from keras.layers import Dense,Conv2D,MaxPool2D,Flatten"
      ],
      "metadata": {
        "id": "NUIVDJDq3jL2"
      },
      "execution_count": null,
      "outputs": []
    },
    {
      "cell_type": "code",
      "source": [
        "model=Sequential()\n",
        "\n",
        "#convelution layer\n",
        "model.add(Conv2D(32,(3,3),input_shape=(150,150,1),activation=\"relu\"))#32-no of filter\n",
        "\n",
        "#pooling layer\n",
        "model.add(MaxPool2D(2,2,))\n",
        "\n",
        "#pooling layer2\n",
        "model.add(MaxPool2D(2,2,))\n",
        "\n",
        "#flatten layer\n",
        "model.add(Flatten())\n",
        "\n",
        "#fully connected layer\n",
        "model.add(Dense(units=100,activation=\"relu\"))\n",
        "\n",
        "#output layer\n",
        "model.add(Dense(units=4,activation=\"softmax\"))"
      ],
      "metadata": {
        "id": "pL1_Xuzyzi50"
      },
      "execution_count": null,
      "outputs": []
    },
    {
      "cell_type": "code",
      "source": [
        "model.compile(optimizer=\"adam\",loss=\"sparse_categorical_crossentropy\",metrics=[\"accuracy\"])"
      ],
      "metadata": {
        "id": "PDK68Yoezn7B"
      },
      "execution_count": null,
      "outputs": []
    },
    {
      "cell_type": "code",
      "source": [
        "model.fit(x_train,y_train,batch_size=30,epochs=10)"
      ],
      "metadata": {
        "id": "XcjYksaL8RGP"
      },
      "execution_count": null,
      "outputs": []
    },
    {
      "cell_type": "code",
      "source": [
        "loss,accuracy=model.evaluate(x_test,y_test)\n",
        "print(accuracy)\n",
        "print(loss)"
      ],
      "metadata": {
        "id": "0So6V3Fm84eb"
      },
      "execution_count": null,
      "outputs": []
    },
    {
      "cell_type": "code",
      "source": [
        "img=\"/content/drive/MyDrive/BRAIN_TUMOR/Testing/meningioma/Te-meTr_0004.jpg\"\n",
        "import matplotlib.pyplot as plt\n",
        "img=imread(img)\n",
        "plt.imshow(img)"
      ],
      "metadata": {
        "id": "MSrT1cs99DjA"
      },
      "execution_count": null,
      "outputs": []
    },
    {
      "cell_type": "code",
      "source": [
        "img=resize(img,(150,150,1))\n",
        "img.shape"
      ],
      "metadata": {
        "id": "7nfd54zu-DQt"
      },
      "execution_count": null,
      "outputs": []
    },
    {
      "cell_type": "code",
      "source": [
        "#converting the size of the image unto 4-d\n",
        "img=img.reshape(1,150,150,1)\n",
        "img.shape"
      ],
      "metadata": {
        "id": "EBEhdy0h-Oos"
      },
      "execution_count": null,
      "outputs": []
    },
    {
      "cell_type": "code",
      "source": [
        "y_new=model.predict(img)\n",
        "y_new"
      ],
      "metadata": {
        "id": "XwaWngsw-0OS"
      },
      "execution_count": null,
      "outputs": []
    },
    {
      "cell_type": "code",
      "source": [
        "ind=y_new.argmax()\n",
        "ind\n",
        "categories[ind]"
      ],
      "metadata": {
        "id": "3rXQ2tpg-6HB"
      },
      "execution_count": null,
      "outputs": []
    },
    {
      "cell_type": "code",
      "source": [],
      "metadata": {
        "id": "p_-PANoa_Pw3"
      },
      "execution_count": null,
      "outputs": []
    }
  ]
}